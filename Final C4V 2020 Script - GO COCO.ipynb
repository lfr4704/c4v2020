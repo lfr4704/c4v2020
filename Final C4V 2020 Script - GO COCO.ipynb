{
 "cells": [
  {
   "cell_type": "markdown",
   "metadata": {},
   "source": [
    "# GO COCO - Encuesta Nacional de Hospitales Survey - Data Cleaning Script\n",
    "\n",
    "2/16/2020\n",
    "\n",
    "Hult International Business School"
   ]
  },
  {
   "cell_type": "markdown",
   "metadata": {},
   "source": [
    "# 0. Overview\n",
    "\n",
    "Angostura is hosted on Google's BigQuery.\n",
    "\n",
    "This notebook will help you to instal the required dependencies and connect to Angostura's BigQuery database."
   ]
  },
  {
   "cell_type": "markdown",
   "metadata": {},
   "source": [
    "# 1. Install Dependencies\n",
    "\n",
    "The only required dependency to communicate to BigQuery is the Google Cloud API."
   ]
  },
  {
   "cell_type": "code",
   "execution_count": 2,
   "metadata": {},
   "outputs": [
    {
     "name": "stdout",
     "output_type": "stream",
     "text": [
      "Requirement already up-to-date: pandas in /Users/johnvillanueva/opt/anaconda3/envs/hackathon/lib/python3.7/site-packages (1.0.1)\n",
      "Requirement already satisfied, skipping upgrade: numpy>=1.13.3 in /Users/johnvillanueva/opt/anaconda3/envs/hackathon/lib/python3.7/site-packages (from pandas) (1.18.1)\n",
      "Requirement already satisfied, skipping upgrade: pytz>=2017.2 in /Users/johnvillanueva/opt/anaconda3/envs/hackathon/lib/python3.7/site-packages (from pandas) (2019.3)\n",
      "Requirement already satisfied, skipping upgrade: python-dateutil>=2.6.1 in /Users/johnvillanueva/opt/anaconda3/envs/hackathon/lib/python3.7/site-packages (from pandas) (2.8.1)\n",
      "Requirement already satisfied, skipping upgrade: six>=1.5 in /Users/johnvillanueva/opt/anaconda3/envs/hackathon/lib/python3.7/site-packages (from python-dateutil>=2.6.1->pandas) (1.14.0)\n",
      "Requirement already up-to-date: google-cloud-bigquery[pandas] in /Users/johnvillanueva/opt/anaconda3/envs/hackathon/lib/python3.7/site-packages (1.24.0)\n",
      "Requirement already satisfied, skipping upgrade: google-cloud-core<2.0dev,>=1.1.0 in /Users/johnvillanueva/opt/anaconda3/envs/hackathon/lib/python3.7/site-packages (from google-cloud-bigquery[pandas]) (1.3.0)\n",
      "Requirement already satisfied, skipping upgrade: google-resumable-media<0.6dev,>=0.5.0 in /Users/johnvillanueva/opt/anaconda3/envs/hackathon/lib/python3.7/site-packages (from google-cloud-bigquery[pandas]) (0.5.0)\n",
      "Requirement already satisfied, skipping upgrade: google-auth<2.0dev,>=1.9.0 in /Users/johnvillanueva/opt/anaconda3/envs/hackathon/lib/python3.7/site-packages (from google-cloud-bigquery[pandas]) (1.11.2)\n",
      "Requirement already satisfied, skipping upgrade: protobuf>=3.6.0 in /Users/johnvillanueva/opt/anaconda3/envs/hackathon/lib/python3.7/site-packages (from google-cloud-bigquery[pandas]) (3.11.3)\n",
      "Requirement already satisfied, skipping upgrade: google-api-core<2.0dev,>=1.15.0 in /Users/johnvillanueva/opt/anaconda3/envs/hackathon/lib/python3.7/site-packages (from google-cloud-bigquery[pandas]) (1.16.0)\n",
      "Requirement already satisfied, skipping upgrade: six<2.0.0dev,>=1.13.0 in /Users/johnvillanueva/opt/anaconda3/envs/hackathon/lib/python3.7/site-packages (from google-cloud-bigquery[pandas]) (1.14.0)\n",
      "Requirement already satisfied, skipping upgrade: pandas>=0.17.1; extra == \"pandas\" in /Users/johnvillanueva/opt/anaconda3/envs/hackathon/lib/python3.7/site-packages (from google-cloud-bigquery[pandas]) (1.0.1)\n",
      "Requirement already satisfied, skipping upgrade: pyasn1-modules>=0.2.1 in /Users/johnvillanueva/opt/anaconda3/envs/hackathon/lib/python3.7/site-packages (from google-auth<2.0dev,>=1.9.0->google-cloud-bigquery[pandas]) (0.2.8)\n",
      "Requirement already satisfied, skipping upgrade: rsa<4.1,>=3.1.4 in /Users/johnvillanueva/opt/anaconda3/envs/hackathon/lib/python3.7/site-packages (from google-auth<2.0dev,>=1.9.0->google-cloud-bigquery[pandas]) (4.0)\n",
      "Requirement already satisfied, skipping upgrade: setuptools>=40.3.0 in /Users/johnvillanueva/opt/anaconda3/envs/hackathon/lib/python3.7/site-packages (from google-auth<2.0dev,>=1.9.0->google-cloud-bigquery[pandas]) (45.2.0.post20200210)\n",
      "Requirement already satisfied, skipping upgrade: cachetools<5.0,>=2.0.0 in /Users/johnvillanueva/opt/anaconda3/envs/hackathon/lib/python3.7/site-packages (from google-auth<2.0dev,>=1.9.0->google-cloud-bigquery[pandas]) (4.0.0)\n",
      "Requirement already satisfied, skipping upgrade: requests<3.0.0dev,>=2.18.0 in /Users/johnvillanueva/opt/anaconda3/envs/hackathon/lib/python3.7/site-packages (from google-api-core<2.0dev,>=1.15.0->google-cloud-bigquery[pandas]) (2.22.0)\n",
      "Requirement already satisfied, skipping upgrade: pytz in /Users/johnvillanueva/opt/anaconda3/envs/hackathon/lib/python3.7/site-packages (from google-api-core<2.0dev,>=1.15.0->google-cloud-bigquery[pandas]) (2019.3)\n",
      "Requirement already satisfied, skipping upgrade: googleapis-common-protos<2.0dev,>=1.6.0 in /Users/johnvillanueva/opt/anaconda3/envs/hackathon/lib/python3.7/site-packages (from google-api-core<2.0dev,>=1.15.0->google-cloud-bigquery[pandas]) (1.51.0)\n",
      "Requirement already satisfied, skipping upgrade: numpy>=1.13.3 in /Users/johnvillanueva/opt/anaconda3/envs/hackathon/lib/python3.7/site-packages (from pandas>=0.17.1; extra == \"pandas\"->google-cloud-bigquery[pandas]) (1.18.1)\n",
      "Requirement already satisfied, skipping upgrade: python-dateutil>=2.6.1 in /Users/johnvillanueva/opt/anaconda3/envs/hackathon/lib/python3.7/site-packages (from pandas>=0.17.1; extra == \"pandas\"->google-cloud-bigquery[pandas]) (2.8.1)\n",
      "Requirement already satisfied, skipping upgrade: pyasn1<0.5.0,>=0.4.6 in /Users/johnvillanueva/opt/anaconda3/envs/hackathon/lib/python3.7/site-packages (from pyasn1-modules>=0.2.1->google-auth<2.0dev,>=1.9.0->google-cloud-bigquery[pandas]) (0.4.8)\n",
      "Requirement already satisfied, skipping upgrade: idna<2.9,>=2.5 in /Users/johnvillanueva/opt/anaconda3/envs/hackathon/lib/python3.7/site-packages (from requests<3.0.0dev,>=2.18.0->google-api-core<2.0dev,>=1.15.0->google-cloud-bigquery[pandas]) (2.8)\n",
      "Requirement already satisfied, skipping upgrade: certifi>=2017.4.17 in /Users/johnvillanueva/opt/anaconda3/envs/hackathon/lib/python3.7/site-packages (from requests<3.0.0dev,>=2.18.0->google-api-core<2.0dev,>=1.15.0->google-cloud-bigquery[pandas]) (2019.11.28)\n",
      "Requirement already satisfied, skipping upgrade: urllib3!=1.25.0,!=1.25.1,<1.26,>=1.21.1 in /Users/johnvillanueva/opt/anaconda3/envs/hackathon/lib/python3.7/site-packages (from requests<3.0.0dev,>=2.18.0->google-api-core<2.0dev,>=1.15.0->google-cloud-bigquery[pandas]) (1.25.8)\n",
      "Requirement already satisfied, skipping upgrade: chardet<3.1.0,>=3.0.2 in /Users/johnvillanueva/opt/anaconda3/envs/hackathon/lib/python3.7/site-packages (from requests<3.0.0dev,>=2.18.0->google-api-core<2.0dev,>=1.15.0->google-cloud-bigquery[pandas]) (3.0.4)\n"
     ]
    }
   ],
   "source": [
    "import sys\n",
    "!{sys.executable} -m pip install --upgrade pandas\n",
    "!{sys.executable} -m pip install --upgrade google-cloud-bigquery[pandas]"
   ]
  },
  {
   "cell_type": "markdown",
   "metadata": {},
   "source": [
    "# 2. Authentication Setup\n",
    "\n",
    "Before being able to query the Angostura database you need to authenticate.\n",
    "You will have read-only access to the tables."
   ]
  },
  {
   "cell_type": "code",
   "execution_count": 3,
   "metadata": {},
   "outputs": [],
   "source": [
    "# # First we need to get the JSON key for authentication\n",
    "\n",
    "import urllib.request\n",
    "\n",
    "url = 'https://storage.googleapis.com/angostura-public/hult-hackathon-key.json'\n",
    "urllib.request.urlretrieve(url, './hult-hackathon-key.json')\n",
    "\n",
    "#Second, we add the key to our environment\n",
    "\n",
    "import os\n",
    "os.environ['GOOGLE_APPLICATION_CREDENTIALS'] = './hult-hackathon-key.json'"
   ]
  },
  {
   "cell_type": "markdown",
   "metadata": {},
   "source": [
    "# 3. Import GCloud API"
   ]
  },
  {
   "cell_type": "code",
   "execution_count": 4,
   "metadata": {},
   "outputs": [],
   "source": [
    "from google.cloud import bigquery\n",
    "\n",
    "client = bigquery.Client()"
   ]
  },
  {
   "cell_type": "markdown",
   "metadata": {},
   "source": [
    "# 4. Example queries"
   ]
  },
  {
   "cell_type": "code",
   "execution_count": 5,
   "metadata": {
    "scrolled": true
   },
   "outputs": [],
   "source": [
    "# # We can dump the BigQuery results directly into a DataFrame\n",
    "QUERY = ('select * from `angostura_dev`.eh_health_survey_response')\n",
    "\n",
    "df = client.query(QUERY).to_dataframe()"
   ]
  },
  {
   "cell_type": "code",
   "execution_count": 6,
   "metadata": {},
   "outputs": [
    {
     "name": "stdout",
     "output_type": "stream",
     "text": [
      "Here are some quick details about the data:\n",
      ">>  There are 1012 rows\n",
      ">>  The shape of the df is (1012, 121)\n"
     ]
    }
   ],
   "source": [
    "print(\"Here are some quick details about the data:\")\n",
    "print(f\">>  There are {len(df)} rows\")\n",
    "print(f\">>  The shape of the df is {df.shape}\")"
   ]
  },
  {
   "cell_type": "code",
   "execution_count": 7,
   "metadata": {},
   "outputs": [
    {
     "name": "stdout",
     "output_type": "stream",
     "text": [
      "<class 'pandas.core.frame.DataFrame'>\n",
      "RangeIndex: 1012 entries, 0 to 1011\n",
      "Columns: 121 entries, timestamp to power_outage_equipment_failure\n",
      "dtypes: float64(10), int64(16), object(95)\n",
      "memory usage: 956.8+ KB\n"
     ]
    }
   ],
   "source": [
    "df.info()"
   ]
  },
  {
   "cell_type": "code",
   "execution_count": 8,
   "metadata": {},
   "outputs": [],
   "source": [
    "# Quick options to display more data in the output cells\n",
    "import pandas as pd\n",
    "pd.set_option('display.max_rows', 500)\n",
    "pd.set_option('display.max_columns', 500)\n",
    "pd.set_option('display.width', 1000)"
   ]
  },
  {
   "cell_type": "code",
   "execution_count": null,
   "metadata": {},
   "outputs": [],
   "source": [
    "df.head(100)"
   ]
  },
  {
   "cell_type": "code",
   "execution_count": null,
   "metadata": {},
   "outputs": [],
   "source": [
    "df.to_excel('data_2.xlsx')"
   ]
  },
  {
   "cell_type": "code",
   "execution_count": null,
   "metadata": {},
   "outputs": [],
   "source": [
    "df.axes"
   ]
  },
  {
   "cell_type": "code",
   "execution_count": null,
   "metadata": {},
   "outputs": [],
   "source": [
    "df.isnull().sum()"
   ]
  },
  {
   "cell_type": "code",
   "execution_count": 17,
   "metadata": {},
   "outputs": [],
   "source": [
    "#new_data = pd.read_excel('data.xlsx')\n",
    "new_data = df.copy()"
   ]
  },
  {
   "cell_type": "markdown",
   "metadata": {},
   "source": [
    "# Data Cleaning"
   ]
  },
  {
   "cell_type": "code",
   "execution_count": 18,
   "metadata": {
    "scrolled": false
   },
   "outputs": [
    {
     "data": {
      "text/plain": [
       "timestamp                                            0\n",
       "report_week                                          0\n",
       "operability_icu                                      0\n",
       "power_outage_equipment_failure_specify               0\n",
       "power_generator_available                            0\n",
       "power_outage_mortatility                             0\n",
       "power_outage_deaths_count                          483\n",
       "mortality_hospital_failure_cardiovascular_count    299\n",
       "mortality_hospital_failure_cardiovascular_cause      0\n",
       "mortality_hospital_failure_trauma_count            336\n",
       "mortality_hospital_failure_trauma_cause              0\n",
       "strike_medical_staff_affected                        0\n",
       "strike_nurses_affected                               0\n",
       "operability_icu_p                                    0\n",
       "strike_other_staff_affected                          0\n",
       "strike_patients_affected                             0\n",
       "strike_other_affected                                0\n",
       "staff_violence_affected_reasons                      0\n",
       "epidemiological_emergency_suspected_diseases         0\n",
       "rrt_avail_high_flow_catheters                        0\n",
       "rrt_avail_blood_tests_hiv_hvb_hvc_vdr                0\n",
       "rrt_avail_immediate_access_urea_reduction_bun        0\n",
       "nCoV_face_mask_avail                                 0\n",
       "nCoV_respiratory_isolation_protocol_avail            0\n",
       "operability_er                                       0\n",
       "nCoV_isolation_area_avail                            0\n",
       "operability_sx                                       0\n",
       "operability_lab                                      0\n",
       "operability_uls                                      0\n",
       "operability_ct_mri                                   0\n",
       "operability_xr                                       0\n",
       "er_avail_adrenalin                                   0\n",
       "er_avail_atropine                                    0\n",
       "hospital_code                                        0\n",
       "er_avail_dopamine                                    0\n",
       "er_avail_cephalosporins_betalactams                  0\n",
       "er_avail_aminoglycosides_quinolone                   0\n",
       "er_avail_vancomycin_clindamycin                      0\n",
       "er_avail_lidocaine                                   0\n",
       "er_avail_minor_opioids                               0\n",
       "er_avail_major_opioids                               0\n",
       "er_avail_iv_fluids                                   0\n",
       "er_avail_diazepam_dph                                0\n",
       "er_avail_heparin                                     0\n",
       "federal_entity                                       0\n",
       "er_avail_steroids                                    0\n",
       "er_avail_insulin                                     0\n",
       "er_avail_asthma                                      0\n",
       "er_avail_blood_pressure                              0\n",
       "er_avail_defibrillator                               0\n",
       "er_avail_ott_intubation                              0\n",
       "er_avail_catheter                                    0\n",
       "er_avail_oxygen_suction                              0\n",
       "sx_avail_minor_opioids                               0\n",
       "sx_avail_major_opioids                               0\n",
       "hospital_type                                        0\n",
       "sx_avail_anesthetic_gases                            0\n",
       "sx_avail_anesthetics_iv                              0\n",
       "sx_avail_relaxants                                   0\n",
       "sx_avail_ott_intubation                              0\n",
       "sx_avail_patient_lingerie_kit                        0\n",
       "sx_avail_disposables_mask_gloves_gown                0\n",
       "sx_avail_oxygen_suction                              0\n",
       "rrt_avail                                            0\n",
       "rrt_operability                                      0\n",
       "rrt_date_stopped_operability                         0\n",
       "administrative_entity                                0\n",
       "rrt_reason_stopped_operability                       0\n",
       "rrt_avg_daily_patients                             401\n",
       "rrt_peritoneal_count                               404\n",
       "rrt_peritoneal_reason_not_performed                  0\n",
       "rrt_num_hemodialysis                               434\n",
       "rrt_num_hemodialysis_acute                         438\n",
       "rrt_num_hemodialysis_chronic                       432\n",
       "rrt_num_hemodialysis_equipments                    415\n",
       "rrt_num_hemodialysis_equipments_operability        413\n",
       "rrt_hemodialysis_avail_filter                        0\n",
       "arch_beds_count                                      0\n",
       "rrt_hemodialysis_avail_lines                         0\n",
       "rrt_hemodialysis_avail_kit_hemodialysis              0\n",
       "rrt_hemodialysis_avail_iron                          0\n",
       "rrt_hemodialysis_avail_b_complex                     0\n",
       "rrt_hemodialysis_avail_calcium                       0\n",
       "rrt_hemodialysis_avail_zemblar                       0\n",
       "rrt_reverse_osmosis_unit_operability                 0\n",
       "rrt_staff_nephrology                                 0\n",
       "rrt_staff_md                                         0\n",
       "rrt_staff_resident                                   0\n",
       "op_beds_count                                        0\n",
       "rrt_staff_nurse                                      0\n",
       "rrt_staff_nurse_nephrologist                         0\n",
       "nutr_avail                                           0\n",
       "nutr_operability                                     0\n",
       "nutr_date_stopped_operability                        0\n",
       "nutr_reason_stopped_operability                      0\n",
       "nutr_num                                             0\n",
       "nutr_daily_freq_meal                                 0\n",
       "nutr_quality                                         0\n",
       "nutr_freq_milk_formulas                              0\n",
       "op_beds_er_count                                     0\n",
       "pneumonia_antibiotic_therapy_latency                 0\n",
       "mi_thrombolytic_treatment_latency                    0\n",
       "er_staff_residents_and_rural_day_on_call             0\n",
       "er_staff_specialist_day_on_call                      0\n",
       "er_staff_mic_day_on_call                             0\n",
       "er_staff_nurse_day_on_call                           0\n",
       "er_staff_non_professional_nurse_day_on_call          0\n",
       "er_staff_residents_and_rural_night_on_call           0\n",
       "er_staff_specialist_night_on_call                    0\n",
       "er_staff_mic_night_on_call                           0\n",
       "op_pavilions_count                                   0\n",
       "er_staff_nurse_night_on_call                         0\n",
       "er_staff_non_professional_nurse_night_on_call        0\n",
       "wash_failure_icu                                     0\n",
       "wash_failure_er                                      0\n",
       "wahs_failure_sx                                      0\n",
       "power_outage                                         0\n",
       "power_outage_avg_failures_per_day                    0\n",
       "power_outage_days_count                              0\n",
       "power_outage_avg_duration                            0\n",
       "power_outage_equipment_failure                       0\n",
       "dtype: int64"
      ]
     },
     "execution_count": 18,
     "metadata": {},
     "output_type": "execute_result"
    }
   ],
   "source": [
    "new_data.isnull().sum()"
   ]
  },
  {
   "cell_type": "code",
   "execution_count": 19,
   "metadata": {},
   "outputs": [
    {
     "data": {
      "text/plain": [
       "0    NaN\n",
       "1    NaN\n",
       "2    NaN\n",
       "3    NaN\n",
       "4    NaN\n",
       "5    NaN\n",
       "6    NaN\n",
       "7    NaN\n",
       "8    NaN\n",
       "9    NaN\n",
       "10   NaN\n",
       "11   NaN\n",
       "12   NaN\n",
       "13   NaN\n",
       "14   NaN\n",
       "15   NaN\n",
       "16   NaN\n",
       "17   NaN\n",
       "18   NaN\n",
       "19   NaN\n",
       "20   NaN\n",
       "21   NaN\n",
       "22   NaN\n",
       "23   NaN\n",
       "24   NaN\n",
       "25   NaN\n",
       "26   NaN\n",
       "27   NaN\n",
       "28   NaN\n",
       "29   NaN\n",
       "Name: rrt_num_hemodialysis_acute, dtype: float64"
      ]
     },
     "execution_count": 19,
     "metadata": {},
     "output_type": "execute_result"
    }
   ],
   "source": [
    "new_data['rrt_num_hemodialysis_acute'][:30]"
   ]
  },
  {
   "cell_type": "code",
   "execution_count": 58,
   "metadata": {},
   "outputs": [],
   "source": [
    "import numpy as np\n",
    "\n",
    "replace_dict = {'Nunca ha existido' : np.nan,\n",
    "                'No operativa' : 0,\n",
    "                \"Sí\" : 1,\n",
    "                \"No\" : 0,\n",
    "                'Nunca ha existido': np.nan,\n",
    "                'No hay': 0,\n",
    "                \"Menos de 3 días\": 1,\n",
    "                \"Entre 3 y 5 días\": 2,\n",
    "                \"Todos los días\":3,\n",
    "                \"Ningún día\" : 0,\n",
    "                \"Entre 1 y 2 días\" : 1,\n",
    "                \"Entre 3 y 5 días\" : 2,\n",
    "                \"Todos los días\" : 3,\n",
    "                \"Protestas sin suspensión de actividades\" : 0,\n",
    "                \"Protestas con suspensión temporal de actividades\" : 1,\n",
    "                \"Huelga (suspendidas todas las actividades)\" : 2,\n",
    "                \"con especilaista\" : 1,\n",
    "                \"sin especialista\" : 0,\n",
    "                \"No hubo\" : 0,\n",
    "                \"No se siguen recomendaciones del especialista en cuanto al menú que se sirve\" : 0,\n",
    "                'Se siguen recomendaciones del especialista en cuanto al menú que se sirve' : 1,\n",
    "                'Si' : 1,\n",
    "                'Hay pero no funciona' : 0,\n",
    "                'Funciona menos de 3 días' : 1,\n",
    "                'Funciona entre 3 y 5 días' : 2,\n",
    "                \"Funciona todos los día's\" : 3,\n",
    "                 \"Funciona todos los días\" : 3,\n",
    "                'Nunca ha habido' : np.nan,\n",
    "                'No existe' : np.nan,\n",
    "                \"No hubo agua ningún dia\" : 0,\n",
    "                \"< 3 días, con soporte alterno\" : 2,\n",
    "                \"< 3 días, sin soporte alterno (cisternas)\" : 1,\n",
    "                \"3 a 5 días , sin soporte alterno\" : 3,\n",
    "                \"3 a 5 días, con soporte alterno\" : 4,\n",
    "                \"Hubo agua todos los días\" : 5,\n",
    "                 }\n",
    "\n",
    "new_data = new_data.replace(replace_dict)\n",
    "\n",
    "# Replacing Blank Spaces in nCoV columns\n",
    "ncov_cols = [\"nCoV_respiratory_isolation_protocol_avail\",\n",
    "\"nCoV_isolation_area_avail\"]\n",
    "\n",
    "new_data[ncov_cols] = new_data[ncov_cols].replace({'':np.nan})"
   ]
  },
  {
   "cell_type": "code",
   "execution_count": 61,
   "metadata": {},
   "outputs": [],
   "source": [
    "#new_data.to_excel('tableau_data3.0.xlsx')\n",
    "\n",
    "#new_data.to_csv('tableau_data4.0.xlsx')"
   ]
  },
  {
   "cell_type": "code",
   "execution_count": null,
   "metadata": {},
   "outputs": [],
   "source": [
    "operability_icu\n",
    "power_outage_equipment_failure_specify\n",
    "power_generator_available\n",
    "power_outage_mortatility\n",
    "operability_icu_p\n",
    "rrt_avail_high_flow_catheters\n",
    "rrt_avail_blood_tests_hiv_hvb_hvc_vdr\n",
    "rrt_avail_immediate_access_urea_reduction_bun\n",
    "nCoV_face_mask_avail\n",
    "nCoV_respiratory_isolation_protocol_avail\n",
    "operability_er\n",
    "nCoV_isolation_area_avail\n",
    "operability_sx\n",
    "operability_lab\n",
    "operability_uls\n",
    "operability_ct_mri\n",
    "operability_xr\n",
    "er_avail_adrenalin\n",
    "er_avail_atropine\n",
    "er_avail_dopamine\n",
    "er_avail_cephalosporins_betalactams\n",
    "er_avail_aminoglycosides_quinolone\n",
    "er_avail_vancomycin_clindamycin\n",
    "er_avail_lidocaine\n",
    "er_avail_minor_opioids\n",
    "er_avail_major_opioids\n",
    "er_avail_iv_fluids\n",
    "er_avail_diazepam_dph\n",
    "er_avail_heparin\n",
    "er_avail_steroids\n",
    "er_avail_insulin\n",
    "er_avail_asthma\n",
    "er_avail_blood_pressure\n",
    "er_avail_defibrillator\n",
    "er_avail_ott_intubation\n",
    "er_avail_catheter\n",
    "er_avail_oxygen_suction\n",
    "sx_avail_minor_opioids\n",
    "sx_avail_major_opioids\n",
    "sx_avail_anesthetic_gases\n",
    "sx_avail_anesthetics_iv\n",
    "sx_avail_relaxants\n",
    "sx_avail_ott_intubation\n",
    "sx_avail_patient_lingerie_kit\n",
    "sx_avail_disposables_mask_gloves_gown\n",
    "sx_avail_oxygen_suction\n",
    "rrt_avail\n",
    "rrt_operability\n",
    "rrt_hemodialysis_avail_filter\n",
    "rrt_hemodialysis_avail_lines\n",
    "rrt_hemodialysis_avail_kit_hemodialysis\n",
    "rrt_hemodialysis_avail_iron\n",
    "rrt_hemodialysis_avail_b_complex\n",
    "rrt_hemodialysis_avail_calcium\n",
    "rrt_hemodialysis_avail_zemblar\n",
    "rrt_reverse_osmosis_unit_operability\n",
    "rrt_avail_blood_tests_hiv_hvb_hvc_vdr\n",
    "rrt_avail_immediate_access_urea_reduction_bun\n",
    "rrt_avail_high_flow_catheters\n",
    "rrt_staff_nephrology\n",
    "rrt_staff_md\n",
    "rrt_staff_resident\n",
    "rrt_staff_nurse\n",
    "rrt_staff_nurse_nephrologist\n",
    "nutr_avail\n",
    "nutr_operability\n",
    "nutr_daily_freq_meal\n",
    "op_pavilions_count\n",
    "power_outage\n",
    "power_outage_days_count\n",
    "power_outage_equipment_failure"
   ]
  },
  {
   "cell_type": "markdown",
   "metadata": {},
   "source": [
    "## Scarcity Scores\n",
    "### Dialysis Supplies Scarcity"
   ]
  },
  {
   "cell_type": "code",
   "execution_count": 82,
   "metadata": {},
   "outputs": [],
   "source": [
    "RRT_cols = []\n",
    "for col in new_data:\n",
    "    if col.find(\"rrt_avail_\")==0 or col.find(\"rrt_hemo\")==0:\n",
    "        RRT_cols.append(col)\n",
    "        new_data[col] = pd.to_numeric(new_data[col])\n",
    "RRT_cols\n",
    "\n",
    "new_data['RRT_Scarcity'] = 100-(((new_data[RRT_cols].sum(axis=1))/(len(RRT_cols)*3))*100)"
   ]
  },
  {
   "cell_type": "code",
   "execution_count": 83,
   "metadata": {},
   "outputs": [
    {
     "data": {
      "text/plain": [
       "0       100.000000\n",
       "1       100.000000\n",
       "2       100.000000\n",
       "3       100.000000\n",
       "4       100.000000\n",
       "           ...    \n",
       "1007     80.000000\n",
       "1008     70.000000\n",
       "1009     90.000000\n",
       "1010     10.000000\n",
       "1011     83.333333\n",
       "Name: RRT_Scarcity, Length: 1012, dtype: float64"
      ]
     },
     "execution_count": 83,
     "metadata": {},
     "output_type": "execute_result"
    }
   ],
   "source": [
    "new_data['RRT_Scarcity']"
   ]
  },
  {
   "cell_type": "markdown",
   "metadata": {},
   "source": [
    "### Emergency Room Supplies Scarcity"
   ]
  },
  {
   "cell_type": "code",
   "execution_count": 94,
   "metadata": {},
   "outputs": [],
   "source": [
    "ER_cols = []\n",
    "for col in new_data:\n",
    "    if col.find(\"er_avail\")==0: # or col.find(\"rrt_hemo\")==0:\n",
    "        ER_cols.append(col)\n",
    "        new_data[col] = pd.to_numeric(new_data[col])\n",
    "\n",
    "new_data['ER_Scarcity'] = 100-(((new_data[ER_cols].sum(axis=1))/(len(ER_cols)*3))*100)\n",
    "new_data['ER_Scarcity']"
   ]
  },
  {
   "cell_type": "markdown",
   "metadata": {},
   "source": [
    "### Surgery Supplies Scarcity"
   ]
  },
  {
   "cell_type": "code",
   "execution_count": 98,
   "metadata": {},
   "outputs": [
    {
     "data": {
      "text/plain": [
       "0       33.333333\n",
       "1       44.444444\n",
       "2       37.037037\n",
       "3       40.740741\n",
       "4       33.333333\n",
       "          ...    \n",
       "1007    44.444444\n",
       "1008    33.333333\n",
       "1009    44.444444\n",
       "1010     0.000000\n",
       "1011    85.185185\n",
       "Name: SX_Scarcity, Length: 1012, dtype: float64"
      ]
     },
     "execution_count": 98,
     "metadata": {},
     "output_type": "execute_result"
    }
   ],
   "source": [
    "SX_cols = []\n",
    "for col in new_data:\n",
    "    if col.find(\"sx_avail\")==0: # or col.find(\"rrt_hemo\")==0:\n",
    "        SX_cols.append(col)\n",
    "        new_data[col] = pd.to_numeric(new_data[col])\n",
    "\n",
    "new_data['SX_Scarcity'] = 100-(((new_data[SX_cols].sum(axis=1))/(len(SX_cols)*3))*100)\n",
    "new_data['SX_Scarcity']"
   ]
  },
  {
   "cell_type": "code",
   "execution_count": 106,
   "metadata": {},
   "outputs": [],
   "source": [
    "#new_data['op_beds_count'].max().groupby('hospital_code')"
   ]
  },
  {
   "cell_type": "code",
   "execution_count": null,
   "metadata": {},
   "outputs": [],
   "source": [
    "# for col in new_data:\n",
    "#     if new_data[col].isnull().sum() > 50:\n",
    "#         new_data = new_data.drop(col,axis=1)\n",
    "        "
   ]
  },
  {
   "cell_type": "code",
   "execution_count": null,
   "metadata": {
    "scrolled": true
   },
   "outputs": [],
   "source": [
    "#new_data.to_excel('data_without_missing.xlsx')"
   ]
  },
  {
   "cell_type": "code",
   "execution_count": null,
   "metadata": {},
   "outputs": [],
   "source": [
    "\n",
    "# for col in list(new_data.columns.values):\n",
    "#     if len(new_data[col].value_counts())>= 1:\n",
    "#         new_data = pd.concat([new_data, pd.get_dummies(new_data[col], prefix=col)], axis=0)\n",
    "#         #new_data[col].fillna(0,inplace=True)\n",
    "    \n",
    "        \n",
    "        \n",
    "#         #new_data = new_data.drop(col,axis=1)"
   ]
  },
  {
   "cell_type": "code",
   "execution_count": null,
   "metadata": {},
   "outputs": [],
   "source": [
    "# for col in new_data:\n",
    "#     new_data[f'one_hot_{col}'] = pd.get_dummies()"
   ]
  },
  {
   "cell_type": "markdown",
   "metadata": {},
   "source": [
    "# 5. Data Format and Conventions\n",
    "\n",
    "All the data comes from forms that doctors in all public hospitals in Venezuela fill on a daily basis.\n",
    "Here we explain the format and conventions used\n",
    "\n",
    "## Columns Details\n",
    "|Variable|Name|Range|Type|\n",
    "|:-------|:---|:----|:---|\n",
    "|timestamp|Timestamp|MM/DD/YYYY HH:MM:SS|Timestamp|\n",
    "|report_week|Semana reportada|[See Weeks below](#weeks)|String|\n",
    "|hospital_code|1.- Código del Hospital|[See Hospitals List below](#hospitals)|String|\n",
    "|federal_entity|2.- Entidad Federal|[See Hospitals List below](#hospitals)|String|\n",
    "|hospital_type|3.- Tipo de Hospital|II, III, IV|String|\n",
    "|administrative_entity|4.- Ente Administrativo (selecciones todas las opciones que corresponda)|MMPS, IVSS, SM, Estatal, Barrio Adentro, Autonomo |String|\n",
    "|arch_beds_count|5.- Número de camas arquitectónicas|Numero entero|Numeric|\n",
    "|op_beds_count|6.- Número de camas operativas|Numero entero|Numeric|\n",
    "|op_beds_er_count|7.- Número de camas operativas en emergencia|Numero entero|Numeric|\n",
    "|op_pavilions_count|8.- Número de pabellones  operativos|Nunca ha existido, No operativa, Menos de 3 de días, Entre 3 y 5 días, Todos los días|String|\n",
    "|operability_icu|9.- Operatividad de unidades específicas [UTI]|Nunca ha existido, No operativa, Menos de 3 de días, Entre 3 y 5 días, Todos los días|String|\n",
    "|operability_icu_p|9.- Operatividad de unidades específicas [UTI(P)]|Nunca ha existido, No operativa, Menos de 3 de días, Entre 3 y 5 días, Todos los días|String|\n",
    "|operability_er|9.- Operatividad de unidades específicas [Emergencia]|Nunca ha existido, No operativa, Menos de 3 de días, Entre 3 y 5 días, Todos los días|String|\n",
    "|operability_sx|9.- Operatividad de unidades específicas [Pabellón]|Nunca ha existido, No operativa, Menos de 3 de días, Entre 3 y 5 días, Todos los días|String|\n",
    "|operability_lab|9.- Operatividad de unidades específicas [Laboratorio]|Nunca ha existido, No operativa, Menos de 3 de días, Entre 3 y 5 días, Todos los días|String|\n",
    "|operability_uls|9.- Operatividad de unidades específicas [Ecografía]|Nunca ha existido, No operativa, Menos de 3 de días, Entre 3 y 5 días, Todos los días|String|\n",
    "|operability_ct_mri|9.- Operatividad de unidades específicas [TAC/RMN]|Nunca ha existido, No operativa, Menos de 3 de días, Entre 3 y 5 días, Todos los días|String|\n",
    "|operability_xr|9.- Operatividad de unidades específicas [Rayos x]|Nunca ha existido, No operativa, Menos de 3 de días, Entre 3 y 5 días, Todos los días|String|\n",
    "|er_avail_adrenalin|10.- Señale insumos disponibles en emergencia. Lista de insumos [Adrenalina]|Nunca ha existido, No hay, Menos de 3 de días, Entre 3 y 5 días, Todos los días|String|\n",
    "|er_avail_atropine|10.- Señale insumos disponibles en emergencia. Lista de insumos [Atropina]|Nunca ha existido, No hay, Menos de 3 de días, Entre 3 y 5 días, Todos los días|String|\n",
    "|er_avail_dopamine|10.- Señale insumos disponibles en emergencia. Lista de insumos [Dopamina]|Nunca ha existido, No hay, Menos de 3 de días, Entre 3 y 5 días, Todos los días|String|\n",
    "|er_avail_cephalosporins_betalactams|10.- Señale insumos disponibles en emergencia. Lista de insumos [Cefalosporinas /betalactámicos]|Nunca ha existido, No hay, Menos de 3 de días, Entre 3 y 5 días, Todos los días|String|\n",
    "|er_avail_aminoglycosides_quinolone|10.- Señale insumos disponibles en emergencia. Lista de insumos [Aminoglicósidos / quinolonas]|Nunca ha existido, No hay, Menos de 3 de días, Entre 3 y 5 días, Todos los días|String|\n",
    "|er_avail_vancomycin_clindamycin|10.- Señale insumos disponibles en emergencia. Lista de insumos [Vancomicina / Clindamicina]|Nunca ha existido, No hay, Menos de 3 de días, Entre 3 y 5 días, Todos los días|String|\n",
    "|er_avail_lidocaine|10.- Señale insumos disponibles en emergencia. Lista de insumos [Anestesia local (lidocaína)]|Nunca ha existido, No hay, Menos de 3 de días, Entre 3 y 5 días, Todos los días|String|\n",
    "|er_avail_minor_opioids|10.- Señale insumos disponibles en emergencia. Lista de insumos [Analgésico menor ( AINES , dipirona , etc)]|Nunca ha existido, No hay, Menos de 3 de días, Entre 3 y 5 días, Todos los días|String|\n",
    "|er_avail_major_opioids|10.- Señale insumos disponibles en emergencia. Lista de insumos [Analgésico mayor ( morfina , demerol)]|Nunca ha existido, No hay, Menos de 3 de días, Entre 3 y 5 días, Todos los días|String|\n",
    "|er_avail_iv_fluids|10.- Señale insumos disponibles en emergencia. Lista de insumos [Fluidoterápicos ( 0,9% , Gluc 5%, ) / equipos infusión]|Nunca ha existido, No hay, Menos de 3 de días, Entre 3 y 5 días, Todos los días|String|\n",
    "|er_avail_diazepam_dph|10.- Señale insumos disponibles en emergencia. Lista de insumos [Diazepam/ DPH]|Nunca ha existido, No hay, Menos de 3 de días, Entre 3 y 5 días, Todos los días|String|\n",
    "|er_avail_heparin|10.- Señale insumos disponibles en emergencia. Lista de insumos [Heparina]|Nunca ha existido, No hay, Menos de 3 de días, Entre 3 y 5 días, Todos los días|String|\n",
    "|er_avail_steroids|10.- Señale insumos disponibles en emergencia. Lista de insumos [Esteroides]|Nunca ha existido, No hay, Menos de 3 de días, Entre 3 y 5 días, Todos los días|String|\n",
    "|er_avail_insulin|10.- Señale insumos disponibles en emergencia. Lista de insumos [Insulina]|Nunca ha existido, No hay, Menos de 3 de días, Entre 3 y 5 días, Todos los días|String|\n",
    "|er_avail_asthma|10.- Señale insumos disponibles en emergencia. Lista de insumos [Med inhalada para asma]|Nunca ha existido, No hay, Menos de 3 de días, Entre 3 y 5 días, Todos los días|String|\n",
    "|er_avail_blood_pressure|10.- Señale insumos disponibles en emergencia. Lista de insumos [Antihipertensivo]|Nunca ha existido, No hay, Menos de 3 de días, Entre 3 y 5 días, Todos los días|String|\n",
    "|er_avail_defibrillator|10.- Señale insumos disponibles en emergencia. Lista de insumos [Desfibrilador]|Nunca ha existido, No hay, Menos de 3 de días, Entre 3 y 5 días, Todos los días|String|\n",
    "|er_avail_ott_intubation|10.- Señale insumos disponibles en emergencia. Lista de insumos [TOT / intubación]|Nunca ha existido, No hay, Menos de 3 de días, Entre 3 y 5 días, Todos los días|String|\n",
    "|er_avail_catheter|10.- Señale insumos disponibles en emergencia. Lista de insumos [Yelco / vías centrales]|Nunca ha existido, No hay, Menos de 3 de días, Entre 3 y 5 días, Todos los días|String|\n",
    "|er_avail_oxygen_suction|10.- Señale insumos disponibles en emergencia. Lista de insumos [Oxígeno / succión]|Nunca ha existido, No hay, Menos de 3 de días, Entre 3 y 5 días, Todos los días|String|\n",
    "|sx_avail_minor_opioids|11.- Señale insumos quirúrgicos disponibles (apendicitis). Lista de insumos  [Analgésicos menores]|Nunca ha existido, No hay, Menos de 3 de días, Entre 3 y 5 días, Todos los días|String|\n",
    "|sx_avail_major_opioids|11.- Señale insumos quirúrgicos disponibles (apendicitis). Lista de insumos  [Analgésicos mayores]|Nunca ha existido, No hay, Menos de 3 de días, Entre 3 y 5 días, Todos los días|String|\n",
    "|sx_avail_anesthetic_gases|11.- Señale insumos quirúrgicos disponibles (apendicitis). Lista de insumos  [Gases anestésicos]|Nunca ha existido, No hay, Menos de 3 de días, Entre 3 y 5 días, Todos los días|String|\n",
    "|sx_avail_anesthetics_iv|11.- Señale insumos quirúrgicos disponibles (apendicitis). Lista de insumos  [Anestésicos EV]|Nunca ha existido, No hay, Menos de 3 de días, Entre 3 y 5 días, Todos los días|String|\n",
    "|sx_avail_relaxants|11.- Señale insumos quirúrgicos disponibles (apendicitis). Lista de insumos  [Relajantes]|Nunca ha existido, No hay, Menos de 3 de días, Entre 3 y 5 días, Todos los días|String|\n",
    "|sx_avail_ott_intubation|11.- Señale insumos quirúrgicos disponibles (apendicitis). Lista de insumos  [TOT / equipo intubación ]|Nunca ha existido, No hay, Menos de 3 de días, Entre 3 y 5 días, Todos los días|String|\n",
    "|sx_avail_patient_lingerie_kit|11.- Señale insumos quirúrgicos disponibles (apendicitis). Lista de insumos  [Kit lencería paciente]|Nunca ha existido, No hay, Menos de 3 de días, Entre 3 y 5 días, Todos los días|String|\n",
    "|sx_avail_disposables_mask_gloves_gown|11.- Señale insumos quirúrgicos disponibles (apendicitis). Lista de insumos  [Desechables personal de salud( tapaboca, guantes , bata )]|Nunca ha existido, No hay, Menos de 3 de días, Entre 3 y 5 días, Todos los días|String|\n",
    "|sx_avail_oxygen_suction|11.- Señale insumos quirúrgicos disponibles (apendicitis). Lista de insumos  [Oxígeno / succión]|Nunca ha existido, No hay, Menos de 3 de días, Entre 3 y 5 días, Todos los días|String|\n",
    "|rrt_avail|12.- ¿Existe servicio de diálisis en su hospital?|Si, No|String|\n",
    "|rrt_operability|13.-¿Está operativo el servicio de diálisis?|Si, No|String|\n",
    "|rrt_date_stopped_operability|14.- ¿Desde cuándo no está operativo el servicio de diálisis?|Mas de 1 año, Entre 6 meses y 1 Año, Entre 3 y 6 meses, Entre uno y  3 meses, Entre una semana y 1 mes, Menos de una semana|String|\n",
    "|rrt_reason_stopped_operability|15.- ¿Cuál es la/las razón(es) por la que no está operativo el servicio de diálisis? (seleccione las correctas)|[See RRT Stopped Reason below](#rrt_reason_stopped_operability)|String|\n",
    "|rrt_avg_daily_patients|16.- ¿Cuál es la cantidad de pacientes promedio diario en diálisis en el servicio en la última semana?|Número  entero|Numeric|\n",
    "|rrt_peritoneal_count|17.- ¿Cuántos de estos están en diálisis peritoneal?|Número  entero|Numeric|\n",
    "|rrt_peritoneal_reason_not_performed|18.- Si la respuesta a la pregunta anterior es \"0\" ¿Cuál es la/las razón(es) por la que no se realiza  diálisis peritoneal? (seleccione las correctas)|[See RRT No Dialysis below](#rrt_peritoneal_reason_not_performed)|String|\n",
    "|rrt_num_hemodialysis|19.- ¿Cuántos de estos están en hemodiálisis?|Número  entero|Numeric|\n",
    "|rrt_num_hemodialysis_acute|20.-¿Cuántos de estos pacientes son agudos?|Número  entero|Numeric|\n",
    "|rrt_num_hemodialysis_chronic|21.-¿Cuántos de estos pacientes son crónicos?|Número  entero|Numeric|\n",
    "|rrt_num_hemodialysis_equipments|22.-¿Cuántos equipos de hemodiálisis existen en el servicio?|Número  entero|Numeric|\n",
    "|rrt_num_hemodialysis_equipments_operability|23.-¿Cuántos de estos equipos de hemodiálisis están operativos?|Número  entero|Numeric|\n",
    "|rrt_hemodialysis_avail_filter|24.- De los materiales médico-quirúrgicos y de laboratorio necesarios para la hemodiálisis describa la disponibilidad en la última semana [Filtros]|Nunca ha existido, No hay, Menos de 3 de días, Entre 3 y 5 días, Todos los días|String|\n",
    "|rrt_hemodialysis_avail_lines|24.- De los materiales médico-quirúrgicos y de laboratorio necesarios para la hemodiálisis describa la disponibilidad en la última semana [Lineas de conexión]|Nunca ha existido, No hay, Menos de 3 de días, Entre 3 y 5 días, Todos los días|String|\n",
    "|rrt_hemodialysis_avail_kit_hemodialysis|24.- De los materiales médico-quirúrgicos y de laboratorio necesarios para la hemodiálisis describa la disponibilidad en la última semana [Kit de hemodiálisis ]|Nunca ha existido, No hay, Menos de 3 de días, Entre 3 y 5 días, Todos los días|String|\n",
    "|rrt_hemodialysis_avail_iron|24.- De los materiales médico-quirúrgicos y de laboratorio necesarios para la hemodiálisis describa la disponibilidad en la última semana [Hierro]|Nunca ha existido, No hay, Menos de 3 de días, Entre 3 y 5 días, Todos los días|String|\n",
    "|rrt_hemodialysis_avail_b_complex|24.- De los materiales médico-quirúrgicos y de laboratorio necesarios para la hemodiálisis describa la disponibilidad en la última semana [Complejo B]|Nunca ha existido, No hay, Menos de 3 de días, Entre 3 y 5 días, Todos los días|String|\n",
    "|rrt_hemodialysis_avail_calcium|24.- De los materiales médico-quirúrgicos y de laboratorio necesarios para la hemodiálisis describa la disponibilidad en la última semana [Calcio]|Nunca ha existido, No hay, Menos de 3 de días, Entre 3 y 5 días, Todos los días|String|\n",
    "|rrt_hemodialysis_avail_zemblar|24.- De los materiales médico-quirúrgicos y de laboratorio necesarios para la hemodiálisis describa la disponibilidad en la última semana [Zemblar®]|Nunca ha existido, No hay, Menos de 3 de días, Entre 3 y 5 días, Todos los días|String|\n",
    "|rrt_reverse_osmosis_unit_operability|25.-Con respecto a la planta de ósmosis inversa, ¿Cuántos días estuvo operativa la última semana?|Nunca ha existido, No hay, Menos de 3 de días, Entre 3 y 5 días, Todos los días|String|\n",
    "|rrt_staff_nephrology|26.- Con respecto al personal que trabajó en el servicio de diálisis la última semana. ¿Cuántos días trabajo cada profesional? [Especialista Nefrólogo]|Nunca ha existido, No hay, Menos de 3 de días, Entre 3 y 5 días, Todos los días|String|\n",
    "|rrt_staff_md|26.- Con respecto al personal que trabajó en el servicio de diálisis la última semana. ¿Cuántos días trabajo cada profesional? [Médico general]|Nunca ha existido, No hay, Menos de 3 de días, Entre 3 y 5 días, Todos los días|String|\n",
    "|rrt_staff_resident|26.- Con respecto al personal que trabajó en el servicio de diálisis la última semana. ¿Cuántos días trabajo cada profesional? [Residente]|Nunca ha existido, No hay, Menos de 3 de días, Entre 3 y 5 días, Todos los días|String|\n",
    "|rrt_staff_nurse|26.- Con respecto al personal que trabajó en el servicio de diálisis la última semana. ¿Cuántos días trabajo cada profesional? [Enfermera graduada]|Nunca ha existido, No hay, Menos de 3 de días, Entre 3 y 5 días, Todos los días|String|\n",
    "|rrt_staff_nurse_nephrologist|26.- Con respecto al personal que trabajó en el servicio de diálisis la última semana. ¿Cuántos días trabajo cada profesional? [Enfermera especialista en nefrología]|Nunca ha existido, No hay, Menos de 3 de días, Entre 3 y 5 días, Todos los días|String|\n",
    "|nutr_avail|27.- ¿Existe servicio de nutrición en su hospital?|Si, No|String|\n",
    "|nutr_operability|28.-¿Está operativo el servicio de nutrición?|Si, No|String|\n",
    "|nutr_date_stopped_operability|29.- ¿Desde cuándo no está operativo el servicio de nutrición?|Mas de 1 año, Entre 6 meses y 1 Año, Entre 3 y 6 meses, Entre uno y  3 meses, Entre una semana y 1 mes, Menos de una semana|String|\n",
    "|nutr_reason_stopped_operability|30.- ¿Cuál es la/las razón(es) por la que no está operativo el servicio de nutrición? (seleccione las correctas)|[See NUTR Reason Stopped below](#nutr_reason_stopped_operability)|String|\n",
    "|nutr_num|31.- ¿Cuántos días funcionó el servicio de nutrición la última semana?|Ningún día, Entre 1 y 2 días, Entre 3 y 5 días, Todos los días|String|\n",
    "|nutr_daily_freq_meal|32.- Frecuencia diaria de comidas del servicio de nutrición|3 comidas, menos de 3 comidas|String|\n",
    "|nutr_quality|33.- Calidad del servicio de nutrición|con especilaista, sin especialista|String|\n",
    "|nutr_freq_milk_formulas|34. - Frecuencia en el suministro de fórmulas lácteas (solo si existe pediatría)|[See NUTR Milk Formulas Frequency below](#nutr_freq_milk_formulas)|String|\n",
    "|pneumonia_antibiotic_therapy_latency|35.- En su última guardia, en un paciente que requiere hospitalización por neumonía, estime el tiempo que pasó entre la llegada a emergencia y colocación de 1ra dosis de antibiótico|HH:MM|Time|\n",
    "|mi_thrombolytic_treatment_latency|36.- En su última guardia, en un paciente con infarto al miocardio agudo, estime el intervalo de tiempo entre llegada y uso de trombolítico / heparina|HH:MM|Time|\n",
    "|er_staff_residents_and_rural_day_on_call|37.- Número de médicos residentes o rurales  en el turno diurno|Número  entero|Numeric|\n",
    "|er_staff_specialist_day_on_call|38.- Número de médicos especialistas en el turno diurno|Número  entero|Numeric|\n",
    "|er_staff_mic_day_on_call|39.- Número de MIC en el turno diurno|Número  entero|Numeric|\n",
    "|er_staff_nurse_day_on_call|40.- Número de enfermeras profesionales en el turno diurno|Número  entero|Numeric|\n",
    "|er_staff_non_professional_nurse_day_on_call|41.- Número de enfermeras no profesionales en el turno diurno|Número  entero|Numeric|\n",
    "|er_staff_residents_and_rural_night_on_call|42.- Número de médicos residentes o rurales en el turno nocturno|Número  entero|Numeric|\n",
    "|er_staff_specialist_night_on_call|43.- Número de médicos especialistas en el turno nocturno|Número  entero|Numeric|\n",
    "|er_staff_mic_night_on_call|44.- Número de MIC en el turno nocturno|Número  entero|Numeric|\n",
    "|er_staff_nurse_night_on_call|45.- Número de enfermeras profesionales en el turno nocturno|Número  entero|Numeric|\n",
    "|er_staff_non_professional_nurse_night_on_call|46.- Número de enfermeras no profesionales en el turno nocturno|Número  entero|Numeric|\n",
    "|wash_failure_icu|47.- Fallas en servicio de agua en: [UTI]|[See Wash below](#wash)|String|\n",
    "|wash_failure_er|47.- Fallas en servicio de agua en: [Emergencia]|[See Wash below](#wash)|String|\n",
    "|wahs_failure_sx|47.- Fallas en servicio de agua en: [Pabellón]|[See Wash below](#wash)|String|\n",
    "|power_outage|48.- Fallas en servicio de luz eléctrica.|Si, No|String|\n",
    "|power_outage_avg_failures_per_day|49.- Número promedio de cortes por día:|Número  entero|Numeric|\n",
    "|power_outage_days_count|50.- Número de días en los que hubo cortes de energía eléctrica|Menos de 3 días, Entre 3 y 5 días, Todos los días|String|\n",
    "|power_outage_avg_duration|51.- Duración promedio de fallos por semana del servicio luz eléctrica|HH:MM:SS|Time|\n",
    "|power_outage_equipment_failure|52.- ¿Hubo fallas en equipos posterior a cortes de energía la semana pasada?|SI, No|String|\n",
    "|power_outage_equipment_failure_specify|53.- ¿Cuáles equipos fallaron posterior a fallas de energía la semana pasada?|Abierta|String|\n",
    "|power_generator_available|54.- Planta eléctrica|SI, No|String|\n",
    "|power_outage_mortatility|55.- ¿Hubo fallecidos por causas atribuibles a la falta de energía eléctrica?|SI, No|String|\n",
    "|power_outage_deaths_count|56.-¿Cuántos fallecidos hubo por causas atribuibles a la falta de energía eléctrica?|Número  entero|Numeric|\n",
    "|mortality_hospital_failure_cardiovascular_count|57.- Número de muertes cardiovasculares interpretada como falla institucional (emergencia )|Número  entero|Numeric|\n",
    "|mortality_hospital_failure_cardiovascular_cause|58.- Causa de muerte cardiovascular interpretada como falla institucional (emergencia )|Equipos, medicamentos, recurso humano, luz eléctrica, otros estructurales, otras causas|String|\n",
    "|mortality_hospital_failure_trauma_count|59.- Número de muertes por trauma interpretada como falla institucional (emergencia )|Número  entero|Numeric|\n",
    "|mortality_hospital_failure_trauma_cause|60.- Causa de muerte por trauma agudo interpretada como falla institucional (emergencia )|Equipos, medicamentos, recurso humano, luz eléctrica, otros estructurales, otras causas|String|\n",
    "|strike_medical_staff_affected|61.- En caso que haya ocurrido algún tipo de protesta, señale las opciones de protesta mas ajustadas  [Personal médico]|Protestas  sin suspensión de actividades, Protestas con suspensión temporal  de actividades, Huelga (suspendidas todas  las actividades)|String|\n",
    "|strike_nurses_affected|61.- En caso que haya ocurrido algún tipo de protesta, señale las opciones de protesta mas ajustadas  [Enfermeras]|Protestas  sin suspensión de actividades, Protestas con suspensión temporal  de actividades, Huelga (suspendidas todas  las actividades)|String|\n",
    "|strike_other_staff_affected|61.- En caso que haya ocurrido algún tipo de protesta, señale las opciones de protesta mas ajustadas  [Otro personal del Hospital]|Protestas  sin suspensión de actividades, Protestas con suspensión temporal  de actividades, Huelga (suspendidas todas  las actividades)|String|\n",
    "|strike_patients_affected|61.- En caso que haya ocurrido algún tipo de protesta, señale las opciones de protesta mas ajustadas  [Familiares y/o pacientes]|Protestas  sin suspensión de actividades, Protestas con suspensión temporal  de actividades, Huelga (suspendidas todas  las actividades)|String|\n",
    "|strike_other_affected|61.- En caso que haya ocurrido algún tipo de protesta, señale las opciones de protesta mas ajustadas  [Otros]|Protestas  sin suspensión de actividades, Protestas con suspensión temporal  de actividades, Huelga (suspendidas todas  las actividades)|String|\n",
    "|staff_violence_affected_reasons|62.- En caso que se hayan producido situaciones de violencia contra personal hospitalario, señale las opciones correspondientes (seleccione todas las opciones que corresponda)|[See STAFF Violence below](#staff_violence_affected_reasons)|String|\n",
    "|epidemiological_emergency_suspected_diseases|63.- Señale alguna situación (fallecidos u hospitalizados) con sospecha clínica de cualquiera de estas enfermedades (seleccione todas las opciones que corresponda)|[See EPIDEMIOLOGICAL below](#epidemiological_emergency_suspected_disease)|String|\n",
    "|rrt_avail_high_flow_catheters|24.- De los materiales médico-quirúrgicos y de laboratorio necesarios para la hemodiálisis describa la disponibilidad en la última semana [Catéteres de alto flujo]|Nunca ha existido, No hay, Menos de 3 de días, Entre 3 y 5 días, Todos los días|String|\n",
    "|rrt_avail_blood_tests_hiv_hvb_hvc_vdr|24.- De los materiales médico-quirúrgicos y de laboratorio necesarios para la hemodiálisis describa la disponibilidad en la última semana [Exámenes de serología (HIV, HVB, HVC y VDR)L)]|Nunca ha existido, No hay, Menos de 3 de días, Entre 3 y 5 días, Todos los días|String|\n",
    "|rrt_avail_immediate_access_urea_reduction_bun|24.- De los materiales médico-quirúrgicos y de laboratorio necesarios para la hemodiálisis describa la disponibilidad en la última semana [Acceso inmediato a % de reducción de urea o BUN]|Nunca ha existido, No hay, Menos de 3 de días, Entre 3 y 5 días, Todos los días|String|\n",
    "|nCoV_face_mask_avail|64.-¿Se suministra tapabocas al personal de salud en este hospital?|Si, No|String|\n",
    "|nCoV_respiratory_isolation_protocol_avail|65.-¿Existe protocolo de aislamiento respiratorio específico?|Si, No|String|\n",
    "|nCoV_isolation_area_avail|66.-¿Existe un área destinada para el aislamiento de casos sospechosos?|Si, No|String|\n",
    "\n",
    "### Acronyms Dictionary\n",
    "| Acronym | Definition |\n",
    "|:--------|:-----------|\n",
    "|arch|\n",
    "|epidemiological|\n",
    "|er| Emergency Room \n",
    "|mi| Myocardial infarction\n",
    "|mortality|\n",
    "|nCoV|\n",
    "|nutr| Nutrition\n",
    "|op|\n",
    "|operability|\n",
    "|pneumonia|\n",
    "|power|\n",
    "|rrt| Renal replacement therapy \n",
    "|staff|\n",
    "|strike|\n",
    "|sx| Surgery\n",
    "|wash| water, sanitation and hygiene\n",
    "\n",
    "\n",
    "\n",
    "### Hospitals \n",
    "|Hospital |hospital_code    | federal_entity |\n",
    "|:---------|:------- |:----- |\n",
    "| Hospital Dr. José Gregorio Hernández. Amazonas | AMA000 | Amazonas |\n",
    "| Hospital Universitario Dr. Luis Razzetti. Anzoátegui | ANZ000 | Anzoátegui |\n",
    "| Hospital Felipe Guevara Rojas. Anzoátegui | ANZ001 | Anzoátegui |\n",
    "| Hospital de Guaraguao. Anzoátegui | ANZ002 | Anzoátegui |\n",
    "| Hospital Dr. Pablo Acosta Ortiz. Apure | APU000 | Apure |\n",
    "| Hospital José María Benítez. Aragua | ARA000 | Aragua | \n",
    "| Hospital Coronel Elbano Paredes Vivas. Aragua | ARA001 | Aragua |\n",
    "| Hospital Central de Maracay. Aragua | ARA002 | Aragua | \n",
    "| Hospital Dr. Luis Razetti. Barinas | BAR000 | Barinas |\n",
    "| Hospital Ruiz y Páez. Bolívar | BOL000 | Bolívar |\n",
    "| Hospital Uyapar. Bolívar | BOL001 | Bolívar | \n",
    "| Hospital Dr. Ángel Larrralde. Carabobo | CAR000 | Carabobo |\n",
    "| Ciudad Hospitalaria Enrique Tejera. Carabobo | CAR001 | Carabobo |\n",
    "| Hospital General de San Carlos. Cojedes | COJ000 | Cojedes |\n",
    "| Hospital Dr. Luis Razetti. Delta Amacuro | DEL000 | Delta Amacuro |\n",
    "| Hospital Militar. Dtto. Capital | DCA000 | Distrito Capital |\n",
    "| Hospital Vargas. Dtto. Capital | DCA001 | Distrito Capital |\n",
    "| Hospital JM de los Ríos. Dtto. Capital | DCA002 | Distrito Capital |\n",
    "| Hospital Universitario de Caracas. Dtto. Capital | DCA003 | Distrito Capital |\n",
    "| Maternidad Concepción Palacios. Dtto. Capital | DCA004 | Distrito Capital |\n",
    "| Hospital Dr. Miguel Pérez Carreño. Dtto. Capital | DCA005 | Distrito Capital |\n",
    "| Hospital Magallanes de Catia. Dtto. Capital | DCA006 | Distrito Capital |\n",
    "| Hospital Dr. Alfredo Van Grieken. Falcón | FAL000 | Falcón |\n",
    "| Hospital Dr. Israel Ranuarez Balza. Guárico | GUA000 | Guárico | \n",
    "| Hospital Universitario Dr. Antonio María Pineda. Lara | LAR000 | Lara |\n",
    "| Hospital Universitario de los Andes. Mérida | MER000 | Mérida |\n",
    "| Hospital Domingo Luciani. Miranda | MIR000 | Miranda |\n",
    "| Hospital General Dr. Victorino Santaella | MIR001 | Miranda |\n",
    "| Hospital Universitario Dr. Manuel Núñez Tovar. Monagas | MON000 | Monagas |\n",
    "| Hospital Dr. Luis Ortega. Nueva Esparta | NES000 | Nueva Esparta |\n",
    "| Hospital Dr. Miguel Oraa. Portuguesa | POR000 | Portuguesa |\n",
    "| Hospital Antonio Patricio de Alcalá. Sucre | SUC000 | Sucre |\n",
    "| Hospital Patrocinio Peñuela. Táchira | TAC000 | Táchira | \n",
    "| Hospital Central de San Cristóbal. Táchira | TAC001 | Táchira |\n",
    "| Hospital Universitario Dr. Pedro Emilio Carrillo. Trujillo | TRU000 | Trujillo |\n",
    "| Hospital Dr. José María Vargas. Vargas | VAR000 | Vargas |\n",
    "| Hospital Plácido Rodriguez Rivero , Yaracuy  | YAR000 | Yaracuy |\n",
    "| Hospital Universitario de Maracaibo. Zulia | ZUL000 | Zulia |\n",
    "| Hospital General del Sur | ZUL001 | Zulia\n",
    "\n",
    "### RRT Stopped Reason\n",
    "|rrt_reason_stopped_operability|\n",
    "|:---|\n",
    "|Falta de equipo nefrológico(máquinas de diálisis)|\n",
    "|Falta de insumos médicos|\n",
    "|Falta de profesionales especializados (Nefrólogo, Cirujano, etc)|\n",
    "|Falta de material quirúrgico|\n",
    "\t\t\t\n",
    "### RRT No Dyalisis\n",
    "|rrt_peritoneal_reason_not_performed|\n",
    "|:----------------------------------|\n",
    "|Falta de insumos médicos|\n",
    "|Falta de profesional entrenado (Cirujano)|\n",
    "|Falta de material quirúrgico|\n",
    "\n",
    "### NUTR Reason Stopped\n",
    "|nutr_reason_stopped_operability|\n",
    "|:------------------------------|\n",
    "|Falta de equipos|\n",
    "|Falta de profesionales (Nutricionistas, Nutrólogos etc)|\n",
    "|Falta de insumos|\n",
    "|Falta de insumos, Falta de equipos|\n",
    "|Falta de personal|\n",
    "\t\n",
    "\t\n",
    "### NUTR Milk Formulas Frequency\n",
    "|nutr_freq_milk_formulas|\n",
    "|:----------------------|\n",
    "|Hubo fórmulas lácteas entre 3 y 5 días|\n",
    "|Hubo formulas lácteas menos de 3 días|\t\n",
    "|Hubo fórmulas lácteas todos los días|\t\n",
    "|No hubo fórmulas lácteas ningún día|\t\n",
    "|Nunca ha habido fórmulas lácteas|\n",
    "\n",
    "\n",
    "### WASH \n",
    "|wash_failure_icu, wash_failure_er, wahs_failure_sx|\n",
    "|:-------------------------------------------------|\n",
    "|< 3 días, con soporte alterno|\n",
    "|< 3 días, sin soporte alterno (cisternas)|\n",
    "|3 a 5 días , sin soporte  alterno|\n",
    "|3 a 5 días, con soporte alterno|\t\n",
    "|Hubo agua todos los días|\n",
    "|No hubo agua ningún dia|\t\t\n",
    "\n",
    "\n",
    "### STAFF Violence\n",
    "|staff_violence_affected_reasons|\n",
    "|:------------------------------|\n",
    "|Robos , hurtos o disparos dentro del centro asistencial|\n",
    "|Violencia contra personal de hospital por familiares|\t\t\n",
    "|Violencia contra personal por  grupos paramilitares|\t\t\n",
    "|Violencia contra personal por fuerzas de seguridad|\n",
    "|Homicidios a personl de salud|\n",
    "\n",
    "### EPIDEMIOLOGICAL \n",
    "|epidemiological_emergency_suspected_diseases|\n",
    "|:-------------------------------------------|\n",
    "|Difteria|\n",
    "|Sarampión|\n",
    "|Síndrome Congénito Zika|\n",
    "|Síndrome Gillan Barré|\n",
    "|TBC en personal de salud|\n",
    "|Fiebre hemorrágica severa (UTI)|\n",
    "|Influenza (UTI)|"
   ]
  }
 ],
 "metadata": {
  "kernelspec": {
   "display_name": "Python 3",
   "language": "python",
   "name": "python3"
  },
  "language_info": {
   "codemirror_mode": {
    "name": "ipython",
    "version": 3
   },
   "file_extension": ".py",
   "mimetype": "text/x-python",
   "name": "python",
   "nbconvert_exporter": "python",
   "pygments_lexer": "ipython3",
   "version": "3.7.6"
  },
  "toc": {
   "base_numbering": 1,
   "nav_menu": {},
   "number_sections": true,
   "sideBar": true,
   "skip_h1_title": false,
   "title_cell": "Table of Contents",
   "title_sidebar": "Contents",
   "toc_cell": false,
   "toc_position": {},
   "toc_section_display": true,
   "toc_window_display": false
  },
  "varInspector": {
   "cols": {
    "lenName": 16,
    "lenType": 16,
    "lenVar": 40
   },
   "kernels_config": {
    "python": {
     "delete_cmd_postfix": "",
     "delete_cmd_prefix": "del ",
     "library": "var_list.py",
     "varRefreshCmd": "print(var_dic_list())"
    },
    "r": {
     "delete_cmd_postfix": ") ",
     "delete_cmd_prefix": "rm(",
     "library": "var_list.r",
     "varRefreshCmd": "cat(var_dic_list()) "
    }
   },
   "types_to_exclude": [
    "module",
    "function",
    "builtin_function_or_method",
    "instance",
    "_Feature"
   ],
   "window_display": false
  }
 },
 "nbformat": 4,
 "nbformat_minor": 2
}
